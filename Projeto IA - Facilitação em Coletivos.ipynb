{
  "cells": [
    {
      "metadata": {
        "trusted": true
      },
      "cell_type": "markdown",
      "source": "#  Modelagem do projeto"
    },
    {
      "metadata": {},
      "cell_type": "markdown",
      "source": "Transporte público - (...) muita das vezes identificamos nos coletivos falta de logística e administração, sendo como exemplo, a falsa impressão de lotação nos transportes tendo em vista que a maioria dos passageiros se concentram na parte da frente do ônibus, causando uma falsa limitação de espaço ao motorista do coletivo que interrompe a entrada de qualquer pessoa ao mesmo. Assim como, a administração de passageiros que vão descer em determinado ponto, porém, o cobrador tem uma falta impressão de que não há passageiros a descer sendo que o alvo está se deslocando com dificuldade até a porta de saída mais próxima do ônibus e, no processo de deslocamento, a porta é fechada e o coletivo segue adiante."
    },
    {
      "metadata": {},
      "cell_type": "markdown",
      "source": "   Facilitação em coletivo.\nNosso projeto visa a melhoria de transporte puplico no que tange a super lotação.\nno nosso dia a dia nos deparamos muito com onibus (trasporte puplico) transpoprtando pessoas a margem da sua capassidade maxima (super lotação)."
    },
    {
      "metadata": {},
      "cell_type": "markdown",
      "source": "# ESCOPO DO PROJETO"
    },
    {
      "metadata": {},
      "cell_type": "markdown",
      "source": "criar um programa que possa controlar a quntidade maxima de pessoas que um onibus pode suportar.\nter o control de numero de passageiro dentro do onibus controlando a quantidade de pessoas que sobem e descem."
    }
  ],
  "metadata": {
    "kernelspec": {
      "name": "python36",
      "display_name": "Python 3.6",
      "language": "python"
    },
    "language_info": {
      "mimetype": "text/x-python",
      "nbconvert_exporter": "python",
      "name": "python",
      "pygments_lexer": "ipython3",
      "version": "3.6.6",
      "file_extension": ".py",
      "codemirror_mode": {
        "version": 3,
        "name": "ipython"
      }
    }
  },
  "nbformat": 4,
  "nbformat_minor": 2
}